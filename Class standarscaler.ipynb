{
 "cells": [
  {
   "cell_type": "code",
   "execution_count": 1,
   "metadata": {},
   "outputs": [],
   "source": [
    "class StandardScaler2:\n",
    "  # normalisation des valeurs de chaques features\n",
    "    def __init__(self):\n",
    "     self.params_ = {'moyenne':[], 'ecart_type' :[]} # dico de liste de moeynnes et d'écart-type\n",
    "    def fit(self, data):  \n",
    "        self.params_['moyenne'] = np.mean(data, 0) \n",
    "        self.params_['ecart_type'] = np.std(data, 0)\n",
    "    def transform(self, data):\n",
    "      normalize = []\n",
    "      for row in data :\n",
    "          normal = [(row[i] - self.params_['moyenne'][i])/ self.params_['ecart_type'][i]  for i in range(len(row)) ]\n",
    "          normalize.append(normal)\n",
    "      print(normalize)\n",
    "      return  normalize\n",
    "    def fit_transform(self, data): # concaténe les 2 fonctions fit et transform\n",
    "       self.fit(data)\n",
    "       self.transform(data)\n",
    "      "
   ]
  },
  {
   "cell_type": "code",
   "execution_count": 15,
   "metadata": {},
   "outputs": [],
   "source": [
    "import numpy as np\n",
    "X = np.array([[1, 3, 6, 5], [6, 9, 7, 8], [10, 6, 21, 13]])"
   ]
  },
  {
   "cell_type": "code",
   "execution_count": 16,
   "metadata": {},
   "outputs": [
    {
     "name": "stdout",
     "output_type": "stream",
     "text": [
      "[[-1.2675004445952593, -1.2247448713915892, -0.7788678136179769, -1.1111677990074318], [0.09053574604251843, 1.2247448713915892, -0.6328300985646063, -0.20203050891044197], [1.1769646985527407, 0.0, 1.4116979121825828, 1.3131983079178742]]\n"
     ]
    }
   ],
   "source": [
    "scaler = StandardScaler2()\n",
    "scaler.fit_transform(X)"
   ]
  },
  {
   "cell_type": "code",
   "execution_count": 17,
   "metadata": {},
   "outputs": [
    {
     "name": "stdout",
     "output_type": "stream",
     "text": [
      "[[-1.26750044 -1.22474487 -0.77886781 -1.1111678 ]\n",
      " [ 0.09053575  1.22474487 -0.6328301  -0.20203051]\n",
      " [ 1.1769647   0.          1.41169791  1.31319831]]\n"
     ]
    }
   ],
   "source": [
    "from sklearn.preprocessing import StandardScaler\n",
    "scaler_1 = StandardScaler()\n",
    "scaler_1.fit(X)\n",
    "data_scaled = scaler_1.transform(X)\n",
    "print(data_scaled)"
   ]
  },
  {
   "cell_type": "code",
   "execution_count": 7,
   "metadata": {},
   "outputs": [],
   "source": [
    "#[ sum(i)/len(data) for i in zip(*data)]"
   ]
  },
  {
   "cell_type": "code",
   "execution_count": 8,
   "metadata": {},
   "outputs": [],
   "source": [
    "# for row in data :\n",
    "#   [(i - moyenne)/ ecart_type  for i in row ]"
   ]
  },
  {
   "cell_type": "code",
   "execution_count": null,
   "metadata": {},
   "outputs": [],
   "source": []
  }
 ],
 "metadata": {
  "kernelspec": {
   "display_name": "Python 3",
   "language": "python",
   "name": "python3"
  },
  "language_info": {
   "codemirror_mode": {
    "name": "ipython",
    "version": 3
   },
   "file_extension": ".py",
   "mimetype": "text/x-python",
   "name": "python",
   "nbconvert_exporter": "python",
   "pygments_lexer": "ipython3",
   "version": "3.7.6"
  }
 },
 "nbformat": 4,
 "nbformat_minor": 4
}
